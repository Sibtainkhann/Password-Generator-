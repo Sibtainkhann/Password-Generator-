{
  "nbformat": 4,
  "nbformat_minor": 0,
  "metadata": {
    "colab": {
      "provenance": [],
      "authorship_tag": "ABX9TyN9tXy3eXiA3rmw6uf7taYD",
      "include_colab_link": true
    },
    "kernelspec": {
      "name": "python3",
      "display_name": "Python 3"
    },
    "language_info": {
      "name": "python"
    }
  },
  "cells": [
    {
      "cell_type": "markdown",
      "metadata": {
        "id": "view-in-github",
        "colab_type": "text"
      },
      "source": [
        "<a href=\"https://colab.research.google.com/github/Sibtainkhann/Password-Generator-/blob/main/Password_Generator.ipynb\" target=\"_parent\"><img src=\"https://colab.research.google.com/assets/colab-badge.svg\" alt=\"Open In Colab\"/></a>"
      ]
    },
    {
      "cell_type": "code",
      "execution_count": 1,
      "metadata": {
        "colab": {
          "base_uri": "https://localhost:8080/"
        },
        "id": "51STFi6rOoSv",
        "outputId": "b9e976b7-e5ad-4624-a274-4ce56408fbc8"
      },
      "outputs": [
        {
          "output_type": "stream",
          "name": "stdout",
          "text": [
            "Enter password length: 10\n",
            "Include uppercase letters? (y/n): n\n",
            "Include numbers? (y/n): n\n",
            "Include special characters? (y/n): n\n",
            "zfpxmcnpqk\n"
          ]
        }
      ],
      "source": [
        "import string\n",
        "import random\n",
        "\n",
        "def generate_password(length, include_uppercase, include_numbers, include_special):\n",
        "  if length < (include_uppercase + include_numbers + include_special):\n",
        "    raise ValueError('Password length is too short for the specified criteria.')\n",
        "\n",
        "  password = ''\n",
        "\n",
        "  if include_uppercase:\n",
        "    password += random.choice(string.ascii_uppercase)\n",
        "  if include_numbers:\n",
        "    password += random.choice(string.digits)\n",
        "  if include_special:\n",
        "    password += random.choice(string.punctuation)\n",
        "\n",
        "  # Fill the remaining length with any allowed characters\n",
        "  characters = string.ascii_lowercase\n",
        "  if include_uppercase:\n",
        "    characters += string.ascii_uppercase\n",
        "  if include_numbers:\n",
        "    characters += string.digits\n",
        "  if include_special:\n",
        "    characters += string.punctuation\n",
        "\n",
        "  for _ in range(length - len(password)):\n",
        "    password += random.choice(characters)\n",
        "\n",
        "  password_list = list(password)\n",
        "  random.shuffle(password_list)\n",
        "  return ''.join(password_list)\n",
        "\n",
        "\n",
        "def main():\n",
        "  length = int(input('Enter password length: '))\n",
        "  include_uppercase = input('Include uppercase letters? (y/n): ').lower() == 'y'\n",
        "  include_numbers = input('Include numbers? (y/n): ').lower() == 'y'\n",
        "  include_special = input('Include special characters? (y/n): ').lower() == 'y'\n",
        "  try:\n",
        "    password = generate_password(length, include_uppercase, include_numbers, include_special)\n",
        "    print(password)\n",
        "  except ValueError as e:\n",
        "    print(e)\n",
        "\n",
        "\n",
        "if __name__ == '__main__':\n",
        "  main()"
      ]
    }
  ]
}